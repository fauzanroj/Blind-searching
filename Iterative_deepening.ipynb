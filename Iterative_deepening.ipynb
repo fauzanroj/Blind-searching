{
  "nbformat": 4,
  "nbformat_minor": 0,
  "metadata": {
    "colab": {
      "provenance": []
    },
    "kernelspec": {
      "name": "python3",
      "display_name": "Python 3"
    },
    "language_info": {
      "name": "python"
    }
  },
  "cells": [
    {
      "cell_type": "code",
      "execution_count": 3,
      "metadata": {
        "colab": {
          "base_uri": "https://localhost:8080/"
        },
        "id": "GjnJgfRy_fLF",
        "outputId": "7ba2c705-319b-440b-c977-b9942ad6f7ca"
      },
      "outputs": [
        {
          "output_type": "stream",
          "name": "stdout",
          "text": [
            "Target is reachable from source within max depth\n"
          ]
        }
      ],
      "source": [
        "# python program to print DFS traversal from a given\n",
        "# given graph\n",
        "from collections import defaultdict\n",
        "\n",
        "# this class represents a directed graph using adjacency\n",
        "# list representation\n",
        "class Graph:\n",
        "\n",
        "  def __init__(self,vertices):\n",
        "\n",
        "    # No. of fertices\n",
        "    self.V = vertices\n",
        "\n",
        "    # default dictionary to store graph\n",
        "    self.graph = defaultdict(list)\n",
        "\n",
        "  # function to add an edge to graph\n",
        "  def addEdge(self,u,v):\n",
        "    self.graph[u].append(v)\n",
        "\n",
        "  # A function to perform a Depth-Limited search\n",
        "  # from given source 'src'\n",
        "  def DLS(self,src,target,maxdepth):\n",
        "\n",
        "    if src == target : return True\n",
        "\n",
        "    # If reached the maximum depth, stop recursing.\n",
        "    if maxDepth <= 0 : return False\n",
        "\n",
        "    # Recur fol all the vertices adjacent to this vertex\n",
        "    for i in self.graph[src]:\n",
        "        if(self.DLS(i,target,maxDepth-1)):\n",
        "          return True\n",
        "    return False \n",
        "        \n",
        "\n",
        "  #IDDFS to search if target is reachabke from v.\n",
        "  # it uses recursice DLS()\n",
        "  def IDDFS(self,src, target, maxDepth):\n",
        "\n",
        "    # Repeatedly depth-limit search till the \n",
        "    # maximum depth\n",
        "    for i in range(maxDepth):\n",
        "        if (self.DLS(src,target, i)):\n",
        "          return True\n",
        "    return False\n",
        "# Create a graph given in the above diagram\n",
        "g = Graph (7);\n",
        "g.addEdge(0, 1)\n",
        "g.addEdge(0, 2)\n",
        "g.addEdge(0, 4)\n",
        "g.addEdge(1, 3)\n",
        "g.addEdge(1, 5)\n",
        "g.addEdge(2, 6)\n",
        "\n",
        "target = 6; maxDepth = 3; src = 0\n",
        "\n",
        "if g.IDDFS(src, target, maxDepth) == True:\n",
        "  print (\"Target is reachable from source \" + \"within max depth\")\n",
        "else :\n",
        "  print (\"Target is NOT reachable from source \" + \"within max depth\")"
      ]
    }
  ]
}